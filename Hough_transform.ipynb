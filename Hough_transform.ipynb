{
 "cells": [
  {
   "cell_type": "code",
   "execution_count": 1,
   "metadata": {
    "collapsed": true
   },
   "outputs": [],
   "source": [
    "%matplotlib inline"
   ]
  },
  {
   "cell_type": "code",
   "execution_count": 2,
   "metadata": {
    "collapsed": true
   },
   "outputs": [],
   "source": [
    "import matplotlib.pyplot as plt\n",
    "import numpy as np\n",
    "import pandas as pd\n",
    "import pytpc\n",
    "import seaborn as sns\n",
    "import math\n",
    "import matplotlib.pyplot as plt\n",
    "import h5py\n",
    "import heapq"
   ]
  },
  {
   "cell_type": "code",
   "execution_count": 8,
   "metadata": {
    "collapsed": true
   },
   "outputs": [],
   "source": [
    "def hough_circle(xyzs):\n",
    "    nbins = 200\n",
    "    xyz_order = xyzs[np.argsort(xyzs[:,2])]\n",
    "    th = np.linspace(0,math.pi,nbins)\n",
    "    #H = [0,0]\n",
    "    Hrad = [0,0]\n",
    "    xyz_order_f = xyz_order[5:]\n",
    "    xyz_order = xyz_order[:-5]\n",
    "\n",
    "   # return xyz_order, xyz_order_f\n",
    "    for theta in th:\n",
    "        Radius = (xyz_order_f[:,0]**2 - xyz_order[:,0]**2+ xyz_order_f[:,1]**2- xyz_order[:,1]**2)/(2*((xyz_order_f[:,0]- xyz_order[:,0])*np.cos(theta)+(xyz_order_f[:,1]- xyz_order[:,1])*np.sin(theta)))\n",
    "        index = 0\n",
    "        for rr in Radius:  \n",
    "            aRad = np.hstack((theta,Radius[index]))\n",
    "            Hrad = np.vstack((Hrad,aRad))\n",
    "            index +=1\n",
    "\n",
    "    Hrad = Hrad[1:]\n",
    "    \n",
    "    #countsRad, xedgesRad, yedgesRad, ImageRad = plt.hist2d(Hrad[:,0], Hrad[:,1], nbins,range=[[0,math.pi],[-500,500]],cmap=plt.cm.jet) \n",
    "    countsRad, xedgesRad, yedgesRad = np.histogram2d(Hrad[:,0], Hrad[:,1], nbins,range=[[0,math.pi],[-500,500]])\n",
    "\n",
    "    iRad,jRad = np.unravel_index(countsRad.argmax(), countsRad.shape)\n",
    "\n",
    "    tRad = iRad*math.pi/nbins\n",
    "    rRad = jRad*1000/nbins - 500\n",
    "   \n",
    "    print(rRad,tRad)\n",
    "  \n",
    "    ax =  rRad*math.cos(tRad)  \n",
    "    by =  rRad*math.sin(tRad)\n",
    "  \n",
    "    return ax,by"
   ]
  },
  {
   "cell_type": "code",
   "execution_count": 112,
   "metadata": {
    "collapsed": true
   },
   "outputs": [],
   "source": [
    "def hough_line(xy):\n",
    "    nbins = 500\n",
    "    th = np.linspace(0,math.pi,nbins)\n",
    "    Hrad = [0,0]\n",
    "\n",
    "    for theta in th:\n",
    "        #if(theta)\n",
    "        Radius = xy[:,0]*math.cos(theta) + xy[:,1]*math.sin(theta)\n",
    "        index = 0\n",
    "        for rr in Radius:\n",
    "            #print(rr)\n",
    "            #aRad = np.hstack((theta,rr))\n",
    "            #print(aRad)\n",
    "            aRad = np.hstack((theta,Radius[index]))\n",
    "            #H = np.vstack((H,a))\n",
    "            Hrad = np.vstack((Hrad,aRad))\n",
    "            index +=1\n",
    "    #H = H[1:]\n",
    "    #print(Hrad)\n",
    "    Hrad = Hrad[1:]\n",
    "    \n",
    "   # countsRad, xedgesRad, yedgesRad, ImageRad = plt.hist2d(Hrad[:,0], Hrad[:,1], nbins,range=[[0,math.pi],[-500,500]],cmap=plt.cm.jet) \n",
    "    countsRad, xedgesRad, yedgesRad = np.histogram2d(Hrad[:,0], Hrad[:,1], nbins,range=[[0,math.pi],[-500,500]]) \n",
    "    iRad,jRad = np.unravel_index(countsRad.argmax(), countsRad.shape)\n",
    "\n",
    "    tRad = iRad*math.pi/nbins\n",
    "    rRad = jRad*1000/nbins - 500\n",
    "\n",
    "    return rRad, tRad, countsRad"
   ]
  },
  {
   "cell_type": "code",
   "execution_count": 5,
   "metadata": {
    "collapsed": false
   },
   "outputs": [],
   "source": [
    "h5_filename = '../run_0166_peaks_bkd_subtract.h5'\n",
    "group_name = '/reduced_get_events'\n",
    "file = h5py.File(h5_filename,'r')\n",
    "group = file[group_name]"
   ]
  },
  {
   "cell_type": "code",
   "execution_count": 11,
   "metadata": {
    "collapsed": true
   },
   "outputs": [],
   "source": [
    "i = 0"
   ]
  },
  {
   "cell_type": "code",
   "execution_count": 108,
   "metadata": {
    "collapsed": false
   },
   "outputs": [
    {
     "name": "stdout",
     "output_type": "stream",
     "text": [
      "23\n"
     ]
    }
   ],
   "source": [
    "#ev = '128'\n",
    "print(i)\n",
    "ev = str(i)\n",
    "event = group[ev]\n",
    "xyz = event[:,0:4]\n",
    "\n",
    "#fig = plt.figure()\n",
    "#ax = fig.add_subplot(111,projection='3d')\n",
    "#cmhot = plt.get_cmap(\"jet\")\n",
    "#a = ax.scatter(xyz[:,0],xyz[:,1],xyz[:,2],c=xyz[:,3],cmap=cmhot)\n",
    "#fig.colorbar(a)"
   ]
  },
  {
   "cell_type": "code",
   "execution_count": 109,
   "metadata": {
    "collapsed": false
   },
   "outputs": [
    {
     "name": "stdout",
     "output_type": "stream",
     "text": [
      "-105.0 2.26194671058\n"
     ]
    }
   ],
   "source": [
    "a, b = hough_circle(xyz);"
   ]
  },
  {
   "cell_type": "code",
   "execution_count": 110,
   "metadata": {
    "collapsed": false
   },
   "outputs": [
    {
     "data": {
      "image/png": "[encoded data removed]",
      "text/plain": [
       "<matplotlib.figure.Figure at 0xcb43d30>"
      ]
     },
     "metadata": {},
     "output_type": "display_data"
    }
   ],
   "source": [
    "plt.plot(xyz[:,0],xyz[:,1],'.',a,b,'r.')\n",
    "plt.axes().set_aspect(1)\n"
   ]
  },
  {
   "cell_type": "code",
   "execution_count": 113,
   "metadata": {
    "collapsed": false
   },
   "outputs": [],
   "source": [
    "rad_z = [0,0]\n",
    "th_z= [0,0]\n",
    "for xy in xyz:\n",
    "    r_xy = np.sqrt((xy[0]-a)**2+(xy[1]-b)**2)\n",
    "    rad_z = np.vstack((rad_z,[xy[2],r_xy]))\n",
    "    th_xy = np.arctan((xy[1]-b)/(xy[0]-a))\n",
    "    #print(th_xy)\n",
    "    th_z = np.vstack((th_z,[xy[2],th_xy]))\n",
    "    \n",
    "rad_z = rad_z[1:]    \n",
    "th_z = th_z[1:]  \n",
    "r_th = th_z\n",
    "r_th[:,1] = r_th[:,1]*rad_z[:,1]\n",
    "r,t, counts = hough_line(r_th)\n"
   ]
  },
  {
   "cell_type": "code",
   "execution_count": 117,
   "metadata": {
    "collapsed": false
   },
   "outputs": [
    {
     "data": {
      "image/png": "[encoded data removed]",
      "text/plain": [
       "<matplotlib.figure.Figure at 0xcac4390>"
      ]
     },
     "metadata": {},
     "output_type": "display_data"
    }
   ],
   "source": [
    "N = 1\n",
    "\n",
    "ind = np.argpartition(counts.flatten(),-N)[-N:]\n",
    "indices = np.vstack(np.unravel_index(ind,counts.shape)).T\n",
    "\n",
    "r_signal = [0,0]\n",
    "r_temp = r_th\n",
    "\n",
    "nbins = 500\n",
    "tRad = indices[:,0]*math.pi/nbins\n",
    "rRad = indices[:,1]*1000/nbins - 500\n",
    "\n",
    "x = np.linspace(50,250,100)\n",
    "y = np.zeros(100)\n",
    "plt.plot(r_th[:,0],r_th[:,1],'r.')\n",
    "sig_i = []\n",
    "for idx, rr in enumerate(rRad): \n",
    "    y_temp= (rRad[idx]-x*math.cos(tRad[idx]))/math.sin(tRad[idx])\n",
    "    #print(len(y_temp))\n",
    "    y = np.vstack((y,y_temp))\n",
    "    #plt.plot(r_test[:,0],r_test[:,1],'g.',x,y_temp)\n",
    "    plt.plot(x,y_temp)\n",
    "    b = math.sin(tRad[idx])\n",
    "    c = -rr\n",
    "    a = math.cos(tRad[idx])\n",
    "    #for ii, xx in enumerate(x):\n",
    "    y2 = (c/b)-a*x/b\n",
    "    #plt.plot(x,y2,'r')\n",
    "    #print(a,b,c)\n",
    "    idxx = []\n",
    "    indd = 0;\n",
    "    for rr in r_th:\n",
    "        \n",
    "        yy = (a*(-b*rr[0]+a*rr[1])-b*c)/(a**2+b**2)\n",
    "        xx = (b*(b*rr[0]-a*rr[1])-a*c)/(a**2+b**2)\n",
    "       # plt.plot(xx,yy,'y.')\n",
    "        #print(xx,yy)\n",
    "            #if(abs(xx-rr[0]) < 10 and abs(y_temp[ii]-rr[1]) < 10):\n",
    "       # if(math.sqrt((xx-rr[0])**2 +(y_temp[ii]-rr[1])**2) < 10):\n",
    "        if(math.sqrt((xx-rr[0])**2 +(yy-rr[1])**2) < 3):\n",
    "        #print(abs(a*rr[0]+b*rr[1]+c)/math.sqrt(a**2+b**2))\n",
    "        #if(abs(a*rr[0]+b*rr[1]+c)/math.sqrt(a**2+b**2) < 20):\n",
    "            #print(\"woo!\",indd)\n",
    "                #print(rr)\n",
    "            plt.plot(rr[0],rr[1],'g.')\n",
    "                #r_signal = np.vstack((r_signal,rr))\n",
    "            idxx.append(indd)\n",
    "                #print(indd)\n",
    "                #print(indd in sig_i)\n",
    "            if ((indd in sig_i) is False):\n",
    "                    #print(\"here\")\n",
    "                sig_i.append(indd)\n",
    "                r_signal = np.vstack((r_signal,rr))\n",
    "        indd = indd+1\n",
    "        #r_temp = np.delete(r_temp,idxx,axis=0)\n",
    "                \n",
    "#print(y)\n",
    "plt.ylim((-500,500))\n",
    "#plt.xlim((100,250))\n",
    "plt.axes().set_aspect(1)"
   ]
  },
  {
   "cell_type": "code",
   "execution_count": null,
   "metadata": {
    "collapsed": true
   },
   "outputs": [],
   "source": [
    "i = i+1"
   ]
  }
 ],
 "metadata": {
  "kernelspec": {
   "display_name": "Python 3",
   "language": "python",
   "name": "python3"
  },
  "language_info": {
   "codemirror_mode": {
    "name": "ipython",
    "version": 3
   },
   "file_extension": ".py",
   "mimetype": "text/x-python",
   "name": "python",
   "nbconvert_exporter": "python",
   "pygments_lexer": "ipython3",
   "version": "3.5.0"
  }
 },
 "nbformat": 4,
 "nbformat_minor": 0
}
