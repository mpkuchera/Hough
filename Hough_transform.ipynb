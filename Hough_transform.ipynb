{
 "cells": [
  {
   "cell_type": "code",
   "execution_count": 113,
   "metadata": {
    "collapsed": true
   },
   "outputs": [],
   "source": [
    "%matplotlib inline"
   ]
  },
  {
   "cell_type": "code",
   "execution_count": 114,
   "metadata": {
    "collapsed": true
   },
   "outputs": [],
   "source": [
    "import matplotlib.pyplot as plt\n",
    "import numpy as np\n",
    "import pandas as pd\n",
    "import pytpc\n",
    "import seaborn as sns\n",
    "import math\n",
    "import matplotlib.pyplot as plt\n",
    "import h5py\n",
    "import heapq"
   ]
  },
  {
   "cell_type": "code",
   "execution_count": 115,
   "metadata": {
    "collapsed": true
   },
   "outputs": [],
   "source": [
    "def hough_circle(xyzs):\n",
    "    nbins = 200\n",
    "    xyz_order = xyzs[np.argsort(xyzs[:,2])]\n",
    "    th = np.linspace(0,math.pi,nbins)\n",
    "    #H = [0,0]\n",
    "    Hrad = [0,0]\n",
    "    xyz_order_f = xyz_order[5:]\n",
    "    xyz_order = xyz_order[:-5]\n",
    "\n",
    "   # return xyz_order, xyz_order_f\n",
    "    for theta in th:\n",
    "        Radius = (xyz_order_f[:,0]**2 - xyz_order[:,0]**2+ xyz_order_f[:,1]**2- xyz_order[:,1]**2)/(2*((xyz_order_f[:,0]- xyz_order[:,0])*np.cos(theta)+(xyz_order_f[:,1]- xyz_order[:,1])*np.sin(theta)))\n",
    "        index = 0\n",
    "        for rr in Radius:  \n",
    "            aRad = np.hstack((theta,Radius[index]))\n",
    "            Hrad = np.vstack((Hrad,aRad))\n",
    "            index +=1\n",
    "\n",
    "    Hrad = Hrad[1:]\n",
    "    \n",
    "    #countsRad, xedgesRad, yedgesRad, ImageRad = plt.hist2d(Hrad[:,0], Hrad[:,1], nbins,range=[[0,math.pi],[-500,500]],cmap=plt.cm.jet) \n",
    "    countsRad, xedgesRad, yedgesRad = np.histogram2d(Hrad[:,0], Hrad[:,1], nbins,range=[[0,math.pi],[-500,500]])\n",
    "\n",
    "    iRad,jRad = np.unravel_index(countsRad.argmax(), countsRad.shape)\n",
    "\n",
    "    tRad = iRad*math.pi/nbins\n",
    "    rRad = jRad*1000/nbins - 500\n",
    "   \n",
    "    print(rRad,tRad)\n",
    "  \n",
    "    ax =  rRad*math.cos(tRad)  \n",
    "    by =  rRad*math.sin(tRad)\n",
    "  \n",
    "    return ax,by"
   ]
  },
  {
   "cell_type": "code",
   "execution_count": 758,
   "metadata": {
    "collapsed": true
   },
   "outputs": [],
   "source": [
    "def hough_line(xy):\n",
    "    nbins = 500\n",
    "    th = np.linspace(0,math.pi,nbins)\n",
    "    Hrad = [0,0]\n",
    "\n",
    "    for theta in th:\n",
    "        #if(theta)\n",
    "        Radius = xy[:,0]*math.cos(theta) + xy[:,1]*math.sin(theta)\n",
    "        index = 0\n",
    "        for rr in Radius:\n",
    "            #print(rr)\n",
    "            #aRad = np.hstack((theta,rr))\n",
    "            #print(aRad)\n",
    "            aRad = np.hstack((theta,Radius[index]))\n",
    "            #H = np.vstack((H,a))\n",
    "            Hrad = np.vstack((Hrad,aRad))\n",
    "            index +=1\n",
    "    #H = H[1:]\n",
    "    #print(Hrad)\n",
    "    Hrad = Hrad[1:]\n",
    "    \n",
    "    #countsRad, xedgesRad, yedgesRad, ImageRad = plt.hist2d(Hrad[:,0], Hrad[:,1], nbins,range=[[0,math.pi],[-500,500]],cmap=plt.cm.jet)\n",
    "    countsRad, xedgesRad, yedgesRad, ImageRad = plt.hist2d(Hrad[:,0], Hrad[:,1], nbins,range=[[0,math.pi],[-2000,2000]],cmap=plt.cm.jet) \n",
    "    #countsRad, xedgesRad, yedgesRad = np.histogram2d(Hrad[:,0], Hrad[:,1], nbins,range=[[0,math.pi],[-1000,1000]]) \n",
    "    iRad,jRad = np.unravel_index(countsRad.argmax(), countsRad.shape)\n",
    "\n",
    "    tRad = iRad*math.pi/nbins\n",
    "    rRad = jRad*4000/nbins - 2000\n",
    "\n",
    "    return rRad, tRad, countsRad"
   ]
  },
  {
   "cell_type": "code",
   "execution_count": 759,
   "metadata": {
    "collapsed": false
   },
   "outputs": [],
   "source": [
    "import scipy.spatial.distance as sp\n",
    "from sklearn.cluster import DBSCAN\n",
    "from sklearn import metrics\n",
    "from sklearn.datasets.samples_generator import make_blobs\n",
    "from sklearn.preprocessing import StandardScaler\n",
    "\n",
    "\n",
    "from scipy.spatial.distance import pdist\n",
    "#x = numpy.array([[9.5,7.5],[10.2,19.1],[9.7,10.2]])\n",
    "\n",
    "def min_distance(point, array):\n",
    "    d = []\n",
    "    #print(\"point = \", point)\n",
    "    #print(\"array = \", array)\n",
    "    #print(point[0])\n",
    "    #print(array[:,0])\n",
    "    #i = 0\n",
    "    for a in array:\n",
    "        #print(\"a = \", a)\n",
    "        d.append(math.sqrt((a[0]-point[0])**2 + (a[1]-point[1])**2))\n",
    "        #i += 1\n",
    "    return min(d)\n",
    "\n",
    "def find_good_points(counts, r_th):\n",
    "    N = 70\n",
    "\n",
    "    ind = np.argpartition(counts.flatten(),-N)[-N:]\n",
    "    indices = np.vstack(np.unravel_index(ind,counts.shape)).T\n",
    "    #print(indices)\n",
    "    r_signal = [0,0]\n",
    "    r_temp = r_th\n",
    "\n",
    "    nbins = 500\n",
    "    tRad = indices[:,0]*math.pi/nbins\n",
    "    rRad = indices[:,1]*4000/nbins - 2000\n",
    "    \n",
    "    \n",
    "    test = np.zeros(indices.shape)\n",
    "    test[:,0] = indices[:,0]*math.pi/nbins\n",
    "    test[:,1] = indices[:,1]*4000/nbins - 2000\n",
    "    #print(test)\n",
    "    x = np.linspace(50,1600,100)\n",
    "    y = np.zeros(100)\n",
    "    plt.plot(r_th[:,0],r_th[:,1],'r.')\n",
    "    sig_i = []\n",
    "    for idx, rr in enumerate(rRad): \n",
    "        #if not((rr in rRad[:idx]) or (np.where(np.logical_and(rRad[:idx]>rr-3, rRad[:idx]<rr+3)))):\n",
    "        #if not(((rRad[:idx] > rr-5).any() and (rRad[:idx] < rr+5).any()) ):\n",
    "        mindist = 1000\n",
    "        if(idx > 1):\n",
    "           \n",
    "            d = test[:idx]\n",
    "            current = (tRad[idx],rRad[idx])\n",
    "            mindist = min_distance(current,d)\n",
    "            #print(mindist)\n",
    "        if(mindist > 30):\n",
    "        #if not(((tRad[:idx] > tRad[idx]-5).any() and (tRad[:idx] < tRad[idx]+5).any()) ):\n",
    "        #np.where((rRad[:idx] > rr-5) and (rRad[:idx] < rr+5)))\n",
    "        #if not(rr in rRad[:idx]):\n",
    "           # print(rr, tRad[idx])\n",
    "            y_temp= (rRad[idx]-x*math.cos(tRad[idx]))/math.sin(tRad[idx])\n",
    "            y = np.vstack((y,y_temp))\n",
    "            #plt.plot(x,y_temp,'-')\n",
    "            b = math.sin(tRad[idx])\n",
    "            c = -rr\n",
    "            a = math.cos(tRad[idx])\n",
    "\n",
    "            y2 = (c/b)-a*x/b\n",
    "            plt.plot(x,y2,'r')\n",
    "\n",
    "            idxx = []\n",
    "            indd = 0;\n",
    "            for rr in r_th:       \n",
    "                yy = (a*(-b*rr[0]+a*rr[1])-b*c)/(a**2+b**2)\n",
    "                xx = (b*(b*rr[0]-a*rr[1])-a*c)/(a**2+b**2)\n",
    "    \n",
    "                if(math.sqrt((xx-rr[0])**2 +(yy-rr[1])**2) < 15):\n",
    "                    plt.plot(rr[0],rr[1],'g.')\n",
    "                    idxx.append(indd)\n",
    "                    if ((indd in sig_i) is False):\n",
    "                        sig_i.append(indd)\n",
    "                        r_signal = np.vstack((r_signal,rr))\n",
    "                indd = indd+1\n",
    "            \n",
    "            #plt.plot(r_th[idxx,0],r_th[idxx,1],'g.')\n",
    "            #print(idxx)\n",
    "            #db = DBSCAN(eps=10, min_samples=4).fit(r_th[idxx])\n",
    "            #core_samples_mask = np.zeros_like(db.labels_, dtype=bool)\n",
    "            #core_samples_mask[db.core_sample_indices_] = True\n",
    "            #labels = db.labels_\n",
    "            mm = a/b\n",
    "            A = np.vstack([r_th[idxx,0], np.ones(len(r_th[idxx,0]))]).T\n",
    "            if(A.any()):\n",
    "                m, yint = np.linalg.lstsq(A, r_th[idxx,1])[0]\n",
    "                if(m>0):\n",
    "                    #print('line params = ',m,yint)\n",
    "                    plt.plot(x, m*x+ yint, '-r')\n",
    "                    idxx = []\n",
    "                    indd = 0;\n",
    "                    for rr in r_th:       \n",
    "                    #yy = (a*(-b*rr[0]+a*rr[1])-b*c)/(a**2+b**2)\n",
    "                    #xx = (b*(b*rr[0]-a*rr[1])-a*c)/(a**2+b**2)\n",
    "                        yy = (rr[0]*m + rr[1]*m*m+yint)/(m*m+1)\n",
    "                        xx = (rr[0]+rr[1]*m-yint*m)/(m*m+1)\n",
    "                        if(math.sqrt((xx-rr[0])**2 +(yy-rr[1])**2) < 5):\n",
    "                        #plt.plot(rr[0],rr[1],'g.')\n",
    "                            idxx.append(indd)\n",
    "                            if ((indd in sig_i) is False):\n",
    "                                sig_i.append(indd)\n",
    "                                r_signal = np.vstack((r_signal,rr))\n",
    "                        indd = indd+1\n",
    "                    plt.plot(r_th[idxx,0],r_th[idxx,1],'g.')\n",
    "                    #print(idxx)\n",
    "                      #, label='Fitted line')\n",
    "            # Number of clusters in labels, ignoring noise if present.\n",
    "           # n_clusters_ = len(set(labels)) - (1 if -1 in labels else 0)\n",
    "\n",
    "            #print('Estimated number of clusters: %d' % n_clusters_)\n",
    "            #print(\"Homogeneity: %0.3f\" % metrics.homogeneity_score(labels_true, labels))\n",
    "            #Y = sp.pdist(r_th[idxx], 'euclidean')\n",
    "            #print(Y)\n",
    "    #plt.ylim((-1000,1000))         \n",
    "   # plt.axes().set_aspect(1)\n",
    "    return sig_i, rRad, tRad"
   ]
  },
  {
   "cell_type": "code",
   "execution_count": 118,
   "metadata": {
    "collapsed": false
   },
   "outputs": [],
   "source": [
    "h5_filename = '../run_0166_peaks_bkd_subtract.h5'\n",
    "group_name = '/reduced_get_events'\n",
    "file = h5py.File(h5_filename,'r')\n",
    "group = file[group_name]"
   ]
  },
  {
   "cell_type": "code",
   "execution_count": 119,
   "metadata": {
    "collapsed": true
   },
   "outputs": [],
   "source": [
    "#i = 0"
   ]
  },
  {
   "cell_type": "code",
   "execution_count": 766,
   "metadata": {
    "collapsed": false
   },
   "outputs": [
    {
     "name": "stdout",
     "output_type": "stream",
     "text": [
      "63\n"
     ]
    }
   ],
   "source": [
    "#ev = '128'\n",
    "#i = 29\n",
    "#i += 1\n",
    "i = 63\n",
    "print(i)\n",
    "ev = str(i)\n",
    "event = group[ev]\n",
    "xyz = event[:,0:4]\n",
    "\n",
    "#fig = plt.figure()\n",
    "#ax = fig.add_subplot(111,projection='3d')\n",
    "#cmhot = plt.get_cmap(\"jet\")\n",
    "#a = ax.scatter(xyz[:,0],xyz[:,1],xyz[:,2],c=xyz[:,3],cmap=cmhot)\n",
    "#fig.colorbar(a)"
   ]
  },
  {
   "cell_type": "code",
   "execution_count": 767,
   "metadata": {
    "collapsed": false
   },
   "outputs": [
    {
     "name": "stdout",
     "output_type": "stream",
     "text": [
      "[[ 1.          0.          0.        ]\n",
      " [ 0.          0.99452187 -0.10452871]\n",
      " [ 0.          0.10452871  0.99452187]]\n",
      "[ 88.15278412 -56.5237008   76.81217954]\n",
      "[ 87.30099391 -56.75034358  20.          25.        ]\n"
     ]
    },
    {
     "name": "stderr",
     "output_type": "stream",
     "text": [
      "C:\\Users\\perrym\\AppData\\Local\\Continuum\\Anaconda3\\lib\\site-packages\\matplotlib\\collections.py:590: FutureWarning: elementwise comparison failed; returning scalar instead, but in the future will perform elementwise comparison\n",
      "  if self._edgecolors == str('face'):\n"
     ]
    },
    {
     "data": {
      "text/plain": [
       "<mpl_toolkits.mplot3d.art3d.Path3DCollection at 0x23bcb390>"
      ]
     },
     "execution_count": 767,
     "metadata": {},
     "output_type": "execute_result"
    },
    {
     "data": {
      "image/png": "[encoded data removed]",
      "text/plain": [
       "<matplotlib.figure.Figure at 0x235582e8>"
      ]
     },
     "metadata": {},
     "output_type": "display_data"
    },
    {
     "data": {
      "image/png": "[encoded data removed]",
      "text/plain": [
       "<matplotlib.figure.Figure at 0x23b85908>"
      ]
     },
     "metadata": {},
     "output_type": "display_data"
    }
   ],
   "source": [
    "v_drift = pytpc.simulation.drift_velocity_vector(-5.2,9000,1.75,0.10472)\n",
    "uvw = pytpc.evtdata.calibrate(xyz,v_drift,12.5)\n",
    "tmat = pytpc.utilities.tilt_matrix(-0.10472)\n",
    "print(tmat)\n",
    "#print(np.shape(uvw))\n",
    "uvw = np.dot(tmat,uvw[:,:3].T).T\n",
    "print(uvw[1,:])\n",
    "print(xyz[1,:])\n",
    "#uvw[:, 0], uvw[: ,1], uvw[:, 2] = np.inner(tmat, uvw[:, :3].T)\n",
    "plt.plot(uvw[:,0],uvw[:,1],'b.')#,a,b,'r.')\n",
    "plt.plot(xyz[:,0],xyz[:,1],'g.')#,a,b,'r.')\n",
    "plt.axes().set_aspect(1)\n",
    "from mpl_toolkits.mplot3d import Axes3D\n",
    "fig = plt.figure()\n",
    "ax = fig.add_subplot(111, projection='3d')\n",
    "a = ax.scatter(xyz[:,0],xyz[:,1],xyz[:,2],c='g')\n",
    "ax.scatter(uvw[:,0],uvw[:,1],uvw[:,2])"
   ]
  },
  {
   "cell_type": "code",
   "execution_count": 768,
   "metadata": {
    "collapsed": false
   },
   "outputs": [
    {
     "name": "stdout",
     "output_type": "stream",
     "text": [
      "-10.0 1.35088484104\n",
      "-2.18143241397 -9.75916761939\n"
     ]
    }
   ],
   "source": [
    "a,b = hough_circle(xyz);\n",
    "print(a,b)"
   ]
  },
  {
   "cell_type": "code",
   "execution_count": 769,
   "metadata": {
    "collapsed": false
   },
   "outputs": [
    {
     "name": "stdout",
     "output_type": "stream",
     "text": [
      "-30.0 2.02632726157\n",
      "13.1981750957 -26.9408272728\n"
     ]
    },
    {
     "data": {
      "image/png": "[encoded data removed]",
      "text/plain": [
       "<matplotlib.figure.Figure at 0x2360d048>"
      ]
     },
     "metadata": {},
     "output_type": "display_data"
    }
   ],
   "source": [
    "#uncal_center = [uncal_center,0]\n",
    "#uncal_center = np.array([[a,b,200],[0,0,0]])\n",
    "\n",
    "#print(xyz)\n",
    "#print(uncal_center)\n",
    "#uncal_center[:]\n",
    "aa,bb = hough_circle(uvw);\n",
    "print(aa,bb)\n",
    "#center = pytpc.evtdata.calibrate(uncal_center,v_drift,12.5)\n",
    "\n",
    "#nc = center[0,:]\n",
    "#print(a,b,nc)\n",
    "plt.plot(xyz[:,0],xyz[:,1],'.',a,b,'r.')\n",
    "plt.plot(uvw[:,0],uvw[:,1],'.',aa,bb,'y.')\n",
    "plt.axes().set_aspect(1)\n"
   ]
  },
  {
   "cell_type": "code",
   "execution_count": 770,
   "metadata": {
    "collapsed": false
   },
   "outputs": [
    {
     "data": {
      "text/plain": [
       "[<matplotlib.lines.Line2D at 0x23c251d0>]"
      ]
     },
     "execution_count": 770,
     "metadata": {},
     "output_type": "execute_result"
    },
    {
     "data": {
      "image/png": "[encoded data removed]",
      "text/plain": [
       "<matplotlib.figure.Figure at 0x23bfc470>"
      ]
     },
     "metadata": {},
     "output_type": "display_data"
    }
   ],
   "source": [
    "rad_z = [0,0]\n",
    "th_z= [0,0]\n",
    "for xy in uvw:\n",
    "    r_xy = np.sqrt((xy[0]-aa)**2+(xy[1]-bb)**2)\n",
    "    rad_z = np.vstack((rad_z,[xy[2],r_xy]))\n",
    "    th_xy = np.arctan((xy[1]-bb)/(xy[0]-aa))\n",
    "    #print(th_xy)\n",
    "    th_z = np.vstack((th_z,[xy[2],th_xy]))\n",
    "\n",
    "rad_z = rad_z[1:] \n",
    "th_z = th_z[1:] \n",
    "#plt.plot(rad_z[:,0],rad_z[:,1],'.')\n",
    "rad_z = rad_z[1:]    \n",
    "th_z = th_z[1:]  \n",
    "r_th = th_z\n",
    "r_th[:,1] = r_th[:,1]*rad_z[:,1]\n",
    "\n",
    "r,t, counts = hough_line(r_th)\n",
    "plt.plot(r_th[:,0],r_th[:,1],'.')"
   ]
  },
  {
   "cell_type": "code",
   "execution_count": 771,
   "metadata": {
    "collapsed": false
   },
   "outputs": [],
   "source": [
    "#print(rad_z)\n",
    "#print(th_z.shape)\n",
    "\n",
    "#y.shape\n",
    "#plt.plot(np.log(rad_z[:,1]),th_z[:,1],'.')\n",
    "#%matplotlib inline\n",
    "#plt.plot(th_z[:,0],th_z[:,1],'.')\n",
    "#plt.xlim(600,1200)\n",
    "#plt.ylim(-200,200)"
   ]
  },
  {
   "cell_type": "code",
   "execution_count": 772,
   "metadata": {
    "collapsed": false
   },
   "outputs": [],
   "source": [
    "#plt.plot(np.log(rad_z[:,1]),th_z[:,1],'.')"
   ]
  },
  {
   "cell_type": "code",
   "execution_count": 789,
   "metadata": {
    "collapsed": false
   },
   "outputs": [
    {
     "data": {
      "text/plain": [
       "(200, 800)"
      ]
     },
     "execution_count": 789,
     "metadata": {},
     "output_type": "execute_result"
    },
    {
     "data": {
      "image/png": "[encoded data removed]",
      "text/plain": [
       "<matplotlib.figure.Figure at 0x1f00cbe0>"
      ]
     },
     "metadata": {},
     "output_type": "display_data"
    }
   ],
   "source": [
    "\n",
    "#%matplotlib inline\n",
    "sig_i, rRad, tRad = find_good_points(counts, th_z)\n",
    "plt.ylim(-500,500)\n",
    "plt.xlim(200,800)\n",
    "#plt.gca().set_aspect(.1)\n",
    "#plt.ylim(-500,500)"
   ]
  },
  {
   "cell_type": "code",
   "execution_count": 779,
   "metadata": {
    "collapsed": false
   },
   "outputs": [
    {
     "data": {
      "text/plain": [
       "[<matplotlib.lines.Line2D at 0x21721b00>]"
      ]
     },
     "execution_count": 779,
     "metadata": {},
     "output_type": "execute_result"
    },
    {
     "data": {
      "image/png": "[encoded data removed]",
      "text/plain": [
       "<matplotlib.figure.Figure at 0x23b3bd68>"
      ]
     },
     "metadata": {},
     "output_type": "display_data"
    }
   ],
   "source": [
    "#plt.xlim((470,500))\n",
    "#plt.ylim((60,90))\n",
    "#plt.axes().set_aspect(1)\n",
    "plt.plot(rRad,tRad,'.')\n",
    "#plt.xlim(-52,-49)"
   ]
  },
  {
   "cell_type": "code",
   "execution_count": 780,
   "metadata": {
    "collapsed": false
   },
   "outputs": [
    {
     "data": {
      "image/png": "[encoded data removed]",
      "text/plain": [
       "<matplotlib.figure.Figure at 0x23473a90>"
      ]
     },
     "metadata": {},
     "output_type": "display_data"
    }
   ],
   "source": [
    "test_sig = uvw[sig_i]\n",
    "plt.plot(uvw[:,0],uvw[:,1],'r.',test_sig[:,0],test_sig[:,1],'.')#,a,b,'.g')\n",
    "plt.axes().set_aspect(1)\n",
    "#indices"
   ]
  },
  {
   "cell_type": "code",
   "execution_count": 783,
   "metadata": {
    "collapsed": false
   },
   "outputs": [
    {
     "name": "stderr",
     "output_type": "stream",
     "text": [
      "C:\\Users\\perrym\\AppData\\Local\\Continuum\\Anaconda3\\lib\\site-packages\\matplotlib\\collections.py:590: FutureWarning: elementwise comparison failed; returning scalar instead, but in the future will perform elementwise comparison\n",
      "  if self._edgecolors == str('face'):\n"
     ]
    },
    {
     "data": {
      "image/png": "[encoded data removed]",
      "text/plain": [
       "<matplotlib.figure.Figure at 0x1c483c88>"
      ]
     },
     "metadata": {},
     "output_type": "display_data"
    },
    {
     "data": {
      "image/png": "[encoded data removed]",
      "text/plain": [
       "<matplotlib.figure.Figure at 0x1c4836d8>"
      ]
     },
     "metadata": {},
     "output_type": "display_data"
    }
   ],
   "source": [
    "plt.plot(uvw[:,2],uvw[:,1],'r.',test_sig[:,2],test_sig[:,1],'.')\n",
    "#i = i+1\n",
    "fig = plt.figure()\n",
    "ax = fig.add_subplot(111, projection='3d')\n",
    "a = ax.scatter(test_sig[:,0],test_sig[:,1],test_sig[:,2],c='g')"
   ]
  },
  {
   "cell_type": "code",
   "execution_count": 782,
   "metadata": {
    "collapsed": false
   },
   "outputs": [
    {
     "data": {
      "text/plain": [
       "[<matplotlib.lines.Line2D at 0x1e65ac88>,\n",
       " <matplotlib.lines.Line2D at 0x1e65d048>]"
      ]
     },
     "execution_count": 782,
     "metadata": {},
     "output_type": "execute_result"
    },
    {
     "data": {
      "image/png": "[encoded data removed]",
      "text/plain": [
       "<matplotlib.figure.Figure at 0x217fbac8>"
      ]
     },
     "metadata": {},
     "output_type": "display_data"
    }
   ],
   "source": [
    "plt.plot(uvw[:,2],uvw[:,0],'r.',test_sig[:,2],test_sig[:,0],'.')"
   ]
  },
  {
   "cell_type": "code",
   "execution_count": 790,
   "metadata": {
    "collapsed": false
   },
   "outputs": [
    {
     "name": "stdout",
     "output_type": "stream",
     "text": [
      "[[  8.49537128e+01  -5.29045772e+01   8.54678730e+01]\n",
      " [ -7.64435775e+01  -5.85144200e+01   6.31048541e+02]\n",
      " [ -7.36840830e+01  -5.94061223e+01   6.30954819e+02]\n",
      " [ -7.70109228e+01  -5.57743623e+01   6.27198880e+02]\n",
      " [ -7.31593271e+01  -6.21419679e+01   6.30667269e+02]\n",
      " [ -7.03998326e+01  -6.30336703e+01   6.30573548e+02]\n",
      " [ -8.24412582e+01  -3.09517709e+01   6.17394884e+02]\n",
      " [ -8.06311464e+01  -3.92259680e+01   6.20662883e+02]\n",
      " [ -8.19165024e+01  -3.36876165e+01   6.17107335e+02]\n",
      " [ -8.00638010e+01  -4.19660258e+01   6.24512544e+02]\n",
      " [ -8.39153968e+01  -3.55984201e+01   6.21044154e+02]\n",
      " [ -8.33906409e+01  -3.83342657e+01   6.20756605e+02]\n",
      " [ -2.86413358e+01  -1.03009330e+01   4.20958003e+02]\n",
      " [ -5.85995042e+01   4.33693436e+01   5.83829830e+02]\n",
      " [ -5.80321588e+01   4.06292858e+01   5.87679491e+02]\n",
      " [ -6.28331372e+01   3.96143967e+01   5.87572822e+02]\n",
      " [ -6.48746211e+01   3.77078052e+01   5.87372430e+02]\n",
      " [ -6.01162322e+01   3.87269065e+01   5.83341889e+02]\n",
      " [ -5.38411152e+01   4.43884448e+01   5.79799288e+02]\n",
      " [ -5.65580202e+01   4.52759350e+01   5.84030221e+02]\n",
      " [ -5.17996313e+01   4.62950363e+01   5.79999679e+02]\n",
      " [ -5.23243872e+01   4.90308819e+01   5.80287229e+02]\n",
      " [ -6.43498653e+01   3.49719596e+01   5.87084881e+02]\n",
      " [ -7.06249823e+01   2.93104213e+01   5.90627481e+02]\n",
      " [ -6.78654878e+01   2.84187189e+01   5.90533759e+02]\n",
      " [ -7.20991208e+01   2.46637721e+01   5.94276751e+02]\n",
      " [ -6.58240038e+01   3.03253104e+01   5.90734151e+02]\n",
      " [ -7.26664662e+01   2.74038298e+01   5.90427090e+02]\n",
      " [  4.35200807e+01   5.64583644e+01   5.39691354e+02]\n",
      " [ -8.31132047e+01  -5.11007825e+00   6.03560347e+02]\n",
      " [ -8.40625874e+01  -1.24925730e+01   6.06922068e+02]\n",
      " [ -8.13030929e+01  -1.33842754e+01   6.06828346e+02]\n",
      " [ -8.61040713e+01  -1.43991645e+01   6.06721676e+02]\n",
      " [ -8.45873433e+01  -9.75672747e+00   6.07209617e+02]\n",
      " [ -8.25884488e+01  -7.84592382e+00   6.03272798e+02]\n",
      " [ -8.27772315e+01  -1.80309246e+01   6.10477616e+02]\n",
      " [ -8.22524756e+01  -2.07667702e+01   6.10190066e+02]\n",
      " [ -8.42939595e+01  -2.26733616e+01   6.09989675e+02]\n",
      " [ -8.37266142e+01  -2.54134194e+01   6.13839336e+02]\n",
      " [ -8.57680981e+01  -2.73200109e+01   6.13638945e+02]\n",
      " [ -8.55793155e+01  -1.71350101e+01   6.06434127e+02]\n",
      " [  1.42716093e+01  -4.45929674e+01   4.62867947e+02]\n",
      " [ -2.86066282e+01  -1.04691351e+02   6.59296368e+02]\n",
      " [ -3.06481122e+01  -1.06597942e+02   6.59095977e+02]\n",
      " [ -6.80223754e+01  -7.40479251e+01   6.37691207e+02]\n",
      " [ -6.85471313e+01  -7.13120795e+01   6.37978757e+02]\n",
      " [ -7.18739712e+01  -6.76803195e+01   6.34222818e+02]\n",
      " [ -7.18313816e+01  -6.76845316e+01   6.38360029e+02]\n",
      " [ -8.21052850e+01  -4.38726173e+01   6.24312153e+02]\n",
      " [ -8.02951732e+01  -5.21468144e+01   6.27580151e+02]\n",
      " [ -7.82536892e+01  -5.02402229e+01   6.27780543e+02]\n",
      " [  7.51576645e+01   1.28256634e+01   5.14417093e+02]\n",
      " [ -9.05456713e+00   6.83625215e+01   5.61630802e+02]\n",
      " [ -1.10960511e+01   6.64559300e+01   5.61430411e+02]\n",
      " [  3.78905059e+00   6.67689640e+01   5.57325659e+02]\n",
      " [ -1.01192785e+00   6.57540749e+01   5.57218989e+02]\n",
      " [ -6.29507264e+00   6.74708191e+01   5.61537081e+02]\n",
      " [  5.04800227e-01   7.03965119e+01   5.57706930e+02]\n",
      " [  3.26429472e+00   6.95048096e+01   5.57613208e+02]\n",
      " [ -4.25358870e+00   6.93774106e+01   5.61737472e+02]\n",
      " [  1.33058284e+01   6.88071666e+01   5.49264576e+02]\n",
      " [  1.13069340e+01   6.68963630e+01   5.53201395e+02]\n",
      " [  8.54743951e+00   6.77880653e+01   5.53295117e+02]\n",
      " [  2.85083419e-01  -7.34540547e+01   4.51559210e+02]\n",
      " [ -8.00797485e+01   4.17479587e+00   6.04536229e+02]\n",
      " [ -7.80382646e+01   6.08138736e+00   6.04736620e+02]\n",
      " [ -7.86056100e+01   8.82144508e+00   6.00886959e+02]\n",
      " [ -7.65641260e+01   1.07280366e+01   6.01087350e+02]\n",
      " [ -7.95549927e+01   1.43895030e+00   6.04248679e+02]\n",
      " [ -8.15964766e+01  -4.67641194e-01   6.04048288e+02]\n",
      " [ -8.10291312e+01  -3.20769891e+00   6.07897949e+02]\n",
      " [ -7.70888819e+01   1.34638821e+01   6.01374900e+02]\n",
      " [ -7.36158489e+01   2.00213350e+01   5.93788810e+02]\n",
      " [ -7.56147433e+01   1.81105313e+01   5.97725630e+02]\n",
      " [ -7.41406048e+01   2.27571806e+01   5.94076360e+02]\n",
      " [ -7.50899875e+01   1.53746858e+01   5.97438080e+02]\n",
      " [ -2.06128289e+01   6.44177274e+01   5.69491494e+02]\n",
      " [ -2.33723234e+01   6.53094297e+01   5.69585216e+02]\n",
      " [ -1.86139345e+01   6.63285310e+01   5.65554675e+02]\n",
      " [ -1.58544400e+01   6.54368287e+01   5.65460953e+02]\n",
      " [ -1.38129561e+01   6.73434202e+01   5.65661344e+02]\n",
      " [ -2.96900299e+01   5.96521035e+01   5.68990606e+02]\n",
      " [ -2.96474404e+01   5.96478914e+01   5.73127817e+02]\n",
      " [ -2.54138074e+01   6.34028382e+01   5.69384825e+02]\n",
      " [ -3.64473133e+01   5.67221986e+01   5.76957967e+02]\n",
      " [ -3.44484189e+01   5.86330022e+01   5.73021147e+02]\n",
      " [ -3.01721963e+01   6.23837369e+01   5.73415366e+02]\n",
      " [ -2.81733019e+01   6.42945406e+01   5.69478547e+02]\n",
      " [ -3.49731747e+01   6.13688478e+01   5.73308697e+02]\n",
      " [ -3.29316908e+01   6.32754393e+01   5.73509088e+02]\n",
      " [ -5.02829032e+01   5.09374734e+01   5.80487620e+02]\n",
      " [ -4.75234087e+01   5.00457711e+01   5.80393898e+02]\n",
      " [ -4.54819248e+01   5.19523626e+01   5.80594290e+02]\n",
      " [ -4.12482917e+01   5.57073094e+01   5.76851298e+02]\n",
      " [ -4.60492702e+01   5.46924203e+01   5.76744628e+02]\n",
      " [ -3.92068078e+01   5.76139009e+01   5.77051689e+02]\n",
      " [ -4.40077862e+01   5.65990118e+01   5.76945020e+02]\n",
      " [ -4.21027704e+01  -1.00349311e+02   6.51477429e+02]\n",
      " [ -4.00612864e+01  -9.84427199e+01   6.51677820e+02]\n",
      " [ -4.49048544e+01  -9.94533969e+01   6.47433939e+02]\n",
      " [ -4.72045829e+01  -1.25296663e+02   1.35639413e+03]\n",
      " [ -3.67344465e+01  -1.02074480e+02   6.55433759e+02]\n",
      " [ -2.76760056e+01  -4.90592598e+01   4.37572597e+02]\n",
      " [ -5.53249508e+01  -8.58306955e+01   6.44728093e+02]\n",
      " [ -4.33881263e+01  -9.48109599e+01   6.47921880e+02]\n",
      " [ -5.20407005e+01  -8.94582434e+01   6.44346821e+02]\n",
      " [ -4.87138606e+01  -9.30900034e+01   6.48102761e+02]\n",
      " [ -2.71512497e+01  -5.17951054e+01   4.37285047e+02]\n",
      " [ -5.15159446e+01  -9.21940890e+01   6.44059272e+02]\n",
      " [ -2.74872230e+01  -3.88742591e+01   4.30367779e+02]\n",
      " [ -6.52628809e+01  -7.49396274e+01   6.37597485e+02]\n",
      " [ -6.19360411e+01  -7.85713875e+01   6.41353425e+02]\n",
      " [ -5.86517907e+01  -8.21989354e+01   6.40972153e+02]\n",
      " [ -6.47381251e+01  -7.76754730e+01   6.37309936e+02]\n",
      " [ -6.14112852e+01  -8.13072331e+01   6.41065875e+02]\n",
      " [ -6.63487597e+01   3.30611560e+01   5.91021700e+02]\n",
      " [  6.51392982e+01   3.66123048e+01   5.25192483e+02]\n",
      " [  5.80886312e+01   4.65990341e+01   5.30379787e+02]\n",
      " [  5.86133870e+01   4.38631885e+01   5.30092237e+02]\n",
      " [  6.13728815e+01   4.29714862e+01   5.29998515e+02]\n",
      " [  6.18550479e+01   4.02398527e+01   5.25573754e+02]\n",
      " [  3.90544032e+01   7.48588223e+00   2.04065007e+03]\n",
      " [  4.72864974e+01   5.00991830e+01   5.34885322e+02]\n",
      " [  5.00459919e+01   4.92074807e+01   5.34791600e+02]\n",
      " [  2.01823921e+01   1.26550768e+01   5.26812124e+02]\n",
      " [  5.20874758e+01   5.11140722e+01   5.34991991e+02]\n",
      " [  4.67617415e+01   5.28350286e+01   5.35172871e+02]\n",
      " [  5.53291367e+01   4.74907364e+01   5.30473508e+02]\n",
      " [  1.53814137e+01   1.16401877e+01   5.26705455e+02]\n",
      " [  5.15201304e+01   5.38541299e+01   5.31142330e+02]\n",
      " [  5.48043808e+01   5.02265820e+01   5.30761058e+02]\n",
      " [  4.04007733e+01   1.21451679e+01   2.02458917e+03]\n",
      " [  2.94336965e+01   6.35860612e+01   5.44578160e+02]\n",
      " [  3.21931910e+01   6.26943589e+01   5.44484438e+02]\n",
      " [  2.73626326e+01   2.39616355e+01   1.98445459e+03]\n",
      " [ -2.66424414e+01  -8.39012934e+00   4.17021183e+02]\n",
      " [  6.75461139e+01  -4.63626696e+01   4.83370211e+02]\n",
      " [  5.96690898e+01  -5.66582207e+01   4.78150449e+02]\n",
      " [  6.17105737e+01  -5.47516292e+01   4.78350841e+02]\n",
      " [  5.48255218e+01  -5.76688977e+01   4.73906569e+02]\n",
      " [  6.11858179e+01  -5.20157836e+01   4.78638390e+02]\n",
      " [  6.32273018e+01  -5.01091921e+01   4.78838781e+02]\n",
      " [  6.27025459e+01  -4.73733466e+01   4.79126331e+02]\n",
      " [  6.47440299e+01  -4.54667551e+01   4.79326722e+02]\n",
      " [  6.59867963e+01  -5.10008945e+01   4.78745060e+02]\n",
      " [  5.33087938e+01  -6.23113348e+01   4.73418628e+02]\n",
      " [  5.68670058e+01  -5.57623062e+01   4.74106960e+02]\n",
      " [  2.99164288e+01  -2.99777409e+01   9.20152400e+01]\n",
      " [  6.90628419e+01  -4.17202325e+01   4.83858152e+02]\n",
      " [  7.06221595e+01  -3.70820076e+01   4.88483304e+02]\n",
      " [  7.11469154e+01  -3.98178532e+01   4.88195755e+02]\n",
      " [  7.26636435e+01  -3.51754161e+01   4.88683696e+02]\n",
      " [  7.17013531e+00  -7.05367862e+01   4.56003481e+02]\n",
      " [  1.62279142e+01  -4.26779517e+01   4.54793916e+02]\n",
      " [  5.61081772e+00  -7.51750111e+01   4.51378329e+02]\n",
      " [ -7.87784451e+01  -4.75043773e+01   6.28068092e+02]\n",
      " [  6.83809591e+01   3.29889691e+01   5.20674000e+02]\n",
      " [  6.78987927e+01   3.57206025e+01   5.25098761e+02]\n",
      " [  6.63394752e+01   3.10823776e+01   5.20473609e+02]\n",
      " [  7.28653864e+01   2.38314939e+01   5.15573855e+02]\n",
      " [  7.16652095e+01   2.93614212e+01   5.20292729e+02]\n",
      " [  6.68642310e+01   2.83465320e+01   5.20186059e+02]\n",
      " [  7.01484814e+01   2.47189841e+01   5.19804788e+02]\n",
      " [  7.33901422e+01   2.10956483e+01   5.15286305e+02]\n",
      " [  6.96237255e+01   2.74548297e+01   5.20092337e+02]\n",
      " [  7.79171590e+01   1.19339610e+01   5.14323371e+02]\n",
      " [  7.83993254e+01   9.20232760e+00   5.09898610e+02]\n",
      " [  7.46329087e+01   1.55615089e+01   5.14704642e+02]\n",
      " [  7.64004309e+01   7.29152396e+00   5.13835430e+02]\n",
      " [  7.68825973e+01   4.55989054e+00   5.09410669e+02]\n",
      " [  7.96420918e+01   3.66818819e+00   5.09316947e+02]\n",
      " [  8.01668477e+01   9.32342626e-01   5.09029398e+02]\n",
      " [  7.81253637e+01  -9.74248867e-01   5.08829006e+02]\n",
      " [  7.61496367e+01   2.02039460e+01   5.15192583e+02]\n",
      " [  7.66743926e+01   1.74681004e+01   5.14905034e+02]\n",
      " [ -1.53668371e+00   6.84899204e+01   5.57506539e+02]\n",
      " [  7.85649406e+01  -3.70167014e+00   5.00267035e+02]\n",
      " [  8.13244351e+01  -4.59337248e+00   5.00173313e+02]\n",
      " [  7.98077070e+01  -9.23580954e+00   4.99685372e+02]\n",
      " [  7.65234566e+01  -5.60826163e+00   5.00066644e+02]\n",
      " [  8.03324629e+01  -1.19716551e+01   4.99397822e+02]\n",
      " [  7.82909789e+01  -1.38782466e+01   4.99197431e+02]\n",
      " [  7.70482125e+01  -8.34410720e+00   4.99779094e+02]\n",
      " [  7.87731453e+01  -1.66098800e+01   4.94772670e+02]\n",
      " [  7.67316613e+01  -1.85164715e+01   4.94572279e+02]\n",
      " [  1.65900788e+01   6.51796187e+01   5.48883304e+02]\n",
      " [  2.13484677e+01   6.61987200e+01   5.44852762e+02]\n",
      " [ -5.80844453e+01  -8.49389931e+01   6.44821815e+02]\n",
      " [  3.93880248e+01  -6.80876356e+01   4.68673859e+02]\n",
      " [  3.73465409e+01  -6.99942271e+01   4.68473468e+02]\n",
      " [  3.25455624e+01  -7.10091163e+01   4.68366798e+02]\n",
      " [  4.21901088e+01  -6.89835501e+01   4.72717348e+02]\n",
      " [  3.45870464e+01  -6.91025248e+01   4.68567190e+02]\n",
      " [  4.42315928e+01  -6.70769586e+01   4.72917739e+02]\n",
      " [  4.57483208e+01  -6.24345216e+01   4.73405680e+02]\n",
      " [  4.85078153e+01  -6.33262239e+01   4.73311958e+02]\n",
      " [  5.05492993e+01  -6.14196324e+01   4.73512350e+02]\n",
      " [ -8.52007527e+01  -3.00600686e+01   6.17488606e+02]\n",
      " [ -4.12767488e+01  -2.16155854e+01   4.19768782e+02]\n",
      " [ -2.81165799e+01  -1.30367786e+01   4.20670453e+02]\n",
      " [ -2.38403573e+01  -9.28604383e+00   4.21064672e+02]\n",
      " [ -8.55367260e+01  -1.71392222e+01   6.10571338e+02]\n",
      " [  1.31069172e+01  -1.24487434e+02   1.44146653e+02]\n",
      " [  1.12771449e+00  -1.57047646e+01   2.31752810e+01]\n",
      " [  1.52979536e+01  -7.31536571e+01   4.59866090e+02]\n",
      " [  1.32564697e+01  -7.50602486e+01   4.59665699e+02]\n",
      " [  1.80574481e+01  -7.40453594e+01   4.59772368e+02]\n",
      " [  5.33877616e+00  -8.02360248e+01   1.55559993e+03]\n",
      " [ -4.28452287e+00  -6.42881552e+01   4.48384933e+02]\n",
      " [ -6.32600681e+00  -6.61947467e+01   4.48184542e+02]\n",
      " [ -9.57683001e-01  -6.79199153e+01   4.52140872e+02]\n",
      " [  1.80181149e+00  -6.88116176e+01   4.52047151e+02]\n",
      " [ -5.75866144e+00  -6.89348044e+01   4.52034203e+02]\n",
      " [ -2.99916694e+00  -6.98265067e+01   4.51940481e+02]\n",
      " [  2.32656736e+00  -7.15474632e+01   4.51759601e+02]\n",
      " [ -2.47441107e+00  -7.25623523e+01   4.51652932e+02]\n",
      " [ -3.73017919e+01  -9.93344223e+01   6.51584098e+02]\n",
      " [ -6.17964059e+01  -1.12455609e+02   4.30909357e+02]\n",
      " [ -2.05401595e+01  -5.90544134e+01   4.40659715e+02]\n",
      " [ -6.60300389e+01  -1.16210556e+02   4.34652349e+02]\n",
      " [ -1.72133196e+01  -6.26861734e+01   4.44415655e+02]\n",
      " [ -5.48001950e+01  -8.85665410e+01   6.44440543e+02]\n",
      " [ -4.81891047e+01  -9.58258490e+01   6.47815211e+02]\n",
      " [ -2.43917552e+01  -5.26868077e+01   4.37191326e+02]\n",
      " [ -2.38244098e+01  -5.54268655e+01   4.41040987e+02]\n",
      " [ -3.40557237e+01  -3.16191632e+01   4.31130322e+02]\n",
      " [ -3.46230691e+01  -2.88791055e+01   4.27280661e+02]\n",
      " [ -3.88992916e+01  -3.26298402e+01   4.26886442e+02]\n",
      " [ -3.59084250e+01  -2.33407540e+01   4.23725113e+02]\n",
      " [ -3.31063410e+01  -2.42366685e+01   4.27768602e+02]\n",
      " [ -3.64331809e+01  -2.06049084e+01   4.24012662e+02]\n",
      " [ -3.11074466e+01  -2.23258648e+01   4.23831782e+02]\n",
      " [ -3.43916969e+01  -1.86983169e+01   4.24213054e+02]\n",
      " [ -3.16322024e+01  -1.95900193e+01   4.24119332e+02]\n",
      " [ -2.95907185e+01  -1.76834278e+01   4.24319723e+02]\n",
      " [ -3.01154743e+01  -1.49475822e+01   4.24607273e+02]\n",
      " [ -3.28129573e+01  -3.71533026e+01   4.30548659e+02]\n",
      " [ -3.70891798e+01  -4.09040374e+01   4.30154440e+02]\n",
      " [ -3.55724518e+01  -3.62616003e+01   4.30642381e+02]\n",
      " [ -3.60972076e+01  -3.35257547e+01   4.30929931e+02]\n",
      " [ -3.25815851e+01  -2.69725140e+01   4.27481052e+02]\n",
      " [ -3.07714733e+01  -3.52467112e+01   4.30749051e+02]\n",
      " [ -3.12962292e+01  -3.25108656e+01   4.31036600e+02]\n",
      " [ -3.04355001e+01  -4.81675575e+01   4.37666319e+02]\n",
      " [ -3.09602560e+01  -4.54317119e+01   4.37953869e+02]\n",
      " [ -3.42870958e+01  -4.17999519e+01   4.34197929e+02]\n",
      " [ -2.89613615e+01  -4.35209083e+01   4.34017049e+02]\n",
      " [ -3.22456119e+01  -3.98933604e+01   4.34398321e+02]\n",
      " [ -2.94861174e+01  -4.07850627e+01   4.34304599e+02]\n",
      " [  7.72564172e+01  -2.12523171e+01   4.94284729e+02]\n",
      " [  1.93495733e+01   6.42879163e+01   5.48789582e+02]\n",
      " [  2.46327181e+01   6.25711721e+01   5.44471491e+02]\n",
      " [  2.41079622e+01   6.53070176e+01   5.44759041e+02]\n",
      " [  1.60653229e+01   6.79154643e+01   5.49170854e+02]]\n"
     ]
    }
   ],
   "source": [
    "print(test_sig)"
   ]
  },
  {
   "cell_type": "code",
   "execution_count": 792,
   "metadata": {
    "collapsed": false
   },
   "outputs": [
    {
     "name": "stdout",
     "output_type": "stream",
     "text": [
      "[[  1.08512498e+00  -1.57005525e+01   1.90380700e+01]\n",
      " [  1.12771449e+00  -1.57047646e+01   2.31752810e+01]\n",
      " [  8.81527841e+01  -5.65237008e+01   7.68121795e+01]\n",
      " [  8.49537128e+01  -5.29045772e+01   8.54678730e+01]\n",
      " [  2.99164288e+01  -2.99777409e+01   9.20152400e+01]\n",
      " [  3.15183359e+01  -2.53437282e+01   1.00777603e+02]\n",
      " [  1.31069172e+01  -1.24487434e+02   1.44146653e+02]\n",
      " [  1.15432988e+02  -3.95043540e+01   1.53078756e+02]\n",
      " [  1.15475577e+02  -3.95085662e+01   1.57215967e+02]\n",
      " [  1.29228774e+01  -1.21785286e+02   1.77531890e+02]\n",
      " [  1.03763305e+01  -1.20914644e+02   1.98311667e+02]\n",
      " [  1.56032040e+01  -1.19941876e+02   2.39790446e+02]\n",
      " [  2.38854329e+01  -7.64347743e+01   2.40225584e+02]\n",
      " [  2.44527782e+01  -7.91748320e+01   2.44075246e+02]\n",
      " [  2.33619453e+01  -8.38593905e+01   2.84959414e+02]\n",
      " [  1.55895223e+01  -1.17256577e+02   2.89724528e+02]\n",
      " [ -2.66424414e+01  -8.39012934e+00   4.17021183e+02]\n",
      " [ -4.12767488e+01  -2.16155854e+01   4.19768782e+02]\n",
      " [ -2.81165799e+01  -1.30367786e+01   4.20670453e+02]\n",
      " [ -2.86413358e+01  -1.03009330e+01   4.20958003e+02]\n",
      " [ -2.38403573e+01  -9.28604383e+00   4.21064672e+02]\n",
      " [ -3.59084250e+01  -2.33407540e+01   4.23725113e+02]\n",
      " [ -3.11074466e+01  -2.23258648e+01   4.23831782e+02]\n",
      " [ -3.64331809e+01  -2.06049084e+01   4.24012662e+02]\n",
      " [ -3.16322024e+01  -1.95900193e+01   4.24119332e+02]\n",
      " [ -3.43916969e+01  -1.86983169e+01   4.24213054e+02]\n",
      " [ -2.95907185e+01  -1.76834278e+01   4.24319723e+02]\n",
      " [ -3.01154743e+01  -1.49475822e+01   4.24607273e+02]\n",
      " [ -3.88992916e+01  -3.26298402e+01   4.26886442e+02]\n",
      " [ -3.46230691e+01  -2.88791055e+01   4.27280661e+02]\n",
      " [ -3.25815851e+01  -2.69725140e+01   4.27481052e+02]\n",
      " [ -3.31063410e+01  -2.42366685e+01   4.27768602e+02]\n",
      " [ -3.70891798e+01  -4.09040374e+01   4.30154440e+02]\n",
      " [ -2.74872230e+01  -3.88742591e+01   4.30367779e+02]\n",
      " [ -3.28129573e+01  -3.71533026e+01   4.30548659e+02]\n",
      " [ -3.55724518e+01  -3.62616003e+01   4.30642381e+02]\n",
      " [ -3.07714733e+01  -3.52467112e+01   4.30749051e+02]\n",
      " [ -6.17964059e+01  -1.12455609e+02   4.30909357e+02]\n",
      " [ -3.60972076e+01  -3.35257547e+01   4.30929931e+02]\n",
      " [ -3.12962292e+01  -3.25108656e+01   4.31036600e+02]\n",
      " [ -3.40557237e+01  -3.16191632e+01   4.31130322e+02]\n",
      " [ -2.89613615e+01  -4.35209083e+01   4.34017049e+02]\n",
      " [ -3.42870958e+01  -4.17999519e+01   4.34197929e+02]\n",
      " [ -2.94861174e+01  -4.07850627e+01   4.34304599e+02]\n",
      " [ -3.22456119e+01  -3.98933604e+01   4.34398321e+02]\n",
      " [ -6.60300389e+01  -1.16210556e+02   4.34652349e+02]\n",
      " [ -2.43917552e+01  -5.26868077e+01   4.37191326e+02]\n",
      " [ -2.71512497e+01  -5.17951054e+01   4.37285047e+02]\n",
      " [ -2.76760056e+01  -4.90592598e+01   4.37572597e+02]\n",
      " [ -3.04355001e+01  -4.81675575e+01   4.37666319e+02]\n",
      " [ -3.09602560e+01  -4.54317119e+01   4.37953869e+02]\n",
      " [ -2.05401595e+01  -5.90544134e+01   4.40659715e+02]\n",
      " [ -2.10649154e+01  -5.63185678e+01   4.40947265e+02]\n",
      " [ -2.38244098e+01  -5.54268655e+01   4.41040987e+02]\n",
      " [ -1.72133196e+01  -6.26861734e+01   4.44415655e+02]\n",
      " [ -1.77380755e+01  -5.99503279e+01   4.44703204e+02]\n",
      " [ -6.32600681e+00  -6.61947467e+01   4.48184542e+02]\n",
      " [ -4.28452287e+00  -6.42881552e+01   4.48384933e+02]\n",
      " [  5.61081772e+00  -7.51750111e+01   4.51378329e+02]\n",
      " [  2.85083419e-01  -7.34540547e+01   4.51559210e+02]\n",
      " [ -2.47441107e+00  -7.25623523e+01   4.51652932e+02]\n",
      " [  2.32656736e+00  -7.15474632e+01   4.51759601e+02]\n",
      " [ -2.99916694e+00  -6.98265067e+01   4.51940481e+02]\n",
      " [ -5.75866144e+00  -6.89348044e+01   4.52034203e+02]\n",
      " [  1.80181149e+00  -6.88116176e+01   4.52047151e+02]\n",
      " [ -9.57683001e-01  -6.79199153e+01   4.52140872e+02]\n",
      " [  1.62279142e+01  -4.26779517e+01   4.54793916e+02]\n",
      " [  1.04543857e+01  -7.41643341e+01   4.55622210e+02]\n",
      " [  5.12865136e+00  -7.24433777e+01   4.55803090e+02]\n",
      " [  9.92962980e+00  -7.14284885e+01   4.55909759e+02]\n",
      " [  7.17013531e+00  -7.05367862e+01   4.56003481e+02]\n",
      " [  1.32564697e+01  -7.50602486e+01   4.59665699e+02]\n",
      " [  1.80574481e+01  -7.40453594e+01   4.59772368e+02]\n",
      " [  1.52979536e+01  -7.31536571e+01   4.59866090e+02]\n",
      " [  1.42716093e+01  -4.45929674e+01   4.62867947e+02]\n",
      " [  1.57883374e+01  -3.99505304e+01   4.63355888e+02]\n",
      " [  3.25455624e+01  -7.10091163e+01   4.68366798e+02]\n",
      " [  3.73465409e+01  -6.99942271e+01   4.68473468e+02]\n",
      " [  3.45870464e+01  -6.91025248e+01   4.68567190e+02]\n",
      " [  3.93880248e+01  -6.80876356e+01   4.68673859e+02]\n",
      " [  4.21901088e+01  -6.89835501e+01   4.72717348e+02]\n",
      " [  4.42315928e+01  -6.70769586e+01   4.72917739e+02]\n",
      " [  4.37068369e+01  -6.43411131e+01   4.73205289e+02]\n",
      " [  4.85078153e+01  -6.33262239e+01   4.73311958e+02]\n",
      " [  4.57483208e+01  -6.24345216e+01   4.73405680e+02]\n",
      " [  5.33087938e+01  -6.23113348e+01   4.73418628e+02]\n",
      " [  5.05492993e+01  -6.14196324e+01   4.73512350e+02]\n",
      " [  5.53502777e+01  -6.04047433e+01   4.73619019e+02]\n",
      " [  5.48255218e+01  -5.76688977e+01   4.73906569e+02]\n",
      " [  5.68670058e+01  -5.57623062e+01   4.74106960e+02]\n",
      " [  5.96690898e+01  -5.66582207e+01   4.78150449e+02]\n",
      " [  6.17105737e+01  -5.47516292e+01   4.78350841e+02]\n",
      " [  6.11858179e+01  -5.20157836e+01   4.78638390e+02]\n",
      " [  6.59867963e+01  -5.10008945e+01   4.78745060e+02]\n",
      " [  6.32273018e+01  -5.01091921e+01   4.78838781e+02]\n",
      " [  6.27025459e+01  -4.73733466e+01   4.79126331e+02]\n",
      " [  6.47440299e+01  -4.54667551e+01   4.79326722e+02]\n",
      " [  6.75461139e+01  -4.63626696e+01   4.83370211e+02]\n",
      " [  6.90628419e+01  -4.17202325e+01   4.83858152e+02]\n",
      " [  6.96301873e+01  -4.44602902e+01   4.87707814e+02]\n",
      " [  7.11469154e+01  -3.98178532e+01   4.88195755e+02]\n",
      " [  7.06221595e+01  -3.70820076e+01   4.88483304e+02]\n",
      " [  7.26636435e+01  -3.51754161e+01   4.88683696e+02]\n",
      " [  7.21814771e+01  -3.24437827e+01   4.93108456e+02]\n",
      " [  7.72564172e+01  -2.12523171e+01   4.94284729e+02]\n",
      " [  7.67316613e+01  -1.85164715e+01   4.94572279e+02]\n",
      " [  7.87731453e+01  -1.66098800e+01   4.94772670e+02]\n",
      " [  7.82909789e+01  -1.38782466e+01   4.99197431e+02]\n",
      " [  8.03324629e+01  -1.19716551e+01   4.99397822e+02]\n",
      " [  7.98077070e+01  -9.23580954e+00   4.99685372e+02]\n",
      " [  7.70482125e+01  -8.34410720e+00   4.99779094e+02]\n",
      " [  7.65234566e+01  -5.60826163e+00   5.00066644e+02]\n",
      " [  8.13244351e+01  -4.59337248e+00   5.00173313e+02]\n",
      " [  7.85649406e+01  -3.70167014e+00   5.00267035e+02]\n",
      " [  7.81253637e+01  -9.74248867e-01   5.08829006e+02]\n",
      " [  8.01668477e+01   9.32342626e-01   5.09029398e+02]\n",
      " [  7.96420918e+01   3.66818819e+00   5.09316947e+02]\n",
      " [  7.68825973e+01   4.55989054e+00   5.09410669e+02]\n",
      " [  7.83993254e+01   9.20232760e+00   5.09898610e+02]\n",
      " [  7.64004309e+01   7.29152396e+00   5.13835430e+02]\n",
      " [  7.79171590e+01   1.19339610e+01   5.14323371e+02]\n",
      " [  7.51576645e+01   1.28256634e+01   5.14417093e+02]\n",
      " [  7.46329087e+01   1.55615089e+01   5.14704642e+02]\n",
      " [  7.66743926e+01   1.74681004e+01   5.14905034e+02]\n",
      " [  7.61496367e+01   2.02039460e+01   5.15192583e+02]\n",
      " [  7.33901422e+01   2.10956483e+01   5.15286305e+02]\n",
      " [  7.28653864e+01   2.38314939e+01   5.15573855e+02]\n",
      " [  7.01484814e+01   2.47189841e+01   5.19804788e+02]\n",
      " [  6.96237255e+01   2.74548297e+01   5.20092337e+02]\n",
      " [  6.68642310e+01   2.83465320e+01   5.20186059e+02]\n",
      " [  7.16652095e+01   2.93614212e+01   5.20292729e+02]\n",
      " [  6.63394752e+01   3.10823776e+01   5.20473609e+02]\n",
      " [  6.83809591e+01   3.29889691e+01   5.20674000e+02]\n",
      " [  6.78987927e+01   3.57206025e+01   5.25098761e+02]\n",
      " [  6.51392982e+01   3.66123048e+01   5.25192483e+02]\n",
      " [  6.46145424e+01   3.93481504e+01   5.25480032e+02]\n",
      " [  6.18550479e+01   4.02398527e+01   5.25573754e+02]\n",
      " [  1.53814137e+01   1.16401877e+01   5.26705455e+02]\n",
      " [  2.01823921e+01   1.26550768e+01   5.26812124e+02]\n",
      " [  6.13728815e+01   4.29714862e+01   5.29998515e+02]\n",
      " [  5.86133870e+01   4.38631885e+01   5.30092237e+02]\n",
      " [  5.80886312e+01   4.65990341e+01   5.30379787e+02]\n",
      " [  5.53291367e+01   4.74907364e+01   5.30473508e+02]\n",
      " [  5.48043808e+01   5.02265820e+01   5.30761058e+02]\n",
      " [  5.15201304e+01   5.38541299e+01   5.31142330e+02]\n",
      " [  5.00459919e+01   4.92074807e+01   5.34791600e+02]\n",
      " [  4.72864974e+01   5.00991830e+01   5.34885322e+02]\n",
      " [  5.20874758e+01   5.11140722e+01   5.34991991e+02]\n",
      " [  4.67617415e+01   5.28350286e+01   5.35172871e+02]\n",
      " [  4.88032255e+01   5.47416201e+01   5.35373263e+02]\n",
      " [  4.35200807e+01   5.64583644e+01   5.39691354e+02]\n",
      " [  2.73922126e+01   6.16794697e+01   5.44377769e+02]\n",
      " [  2.46327181e+01   6.25711721e+01   5.44471491e+02]\n",
      " [  3.21931910e+01   6.26943589e+01   5.44484438e+02]\n",
      " [  2.94336965e+01   6.35860612e+01   5.44578160e+02]\n",
      " [  2.41079622e+01   6.53070176e+01   5.44759041e+02]\n",
      " [  2.13484677e+01   6.61987200e+01   5.44852762e+02]\n",
      " [  1.93495733e+01   6.42879163e+01   5.48789582e+02]\n",
      " [  1.65900788e+01   6.51796187e+01   5.48883304e+02]\n",
      " [  1.60653229e+01   6.79154643e+01   5.49170854e+02]\n",
      " [  1.33058284e+01   6.88071666e+01   5.49264576e+02]\n",
      " [  6.50595557e+00   6.58814738e+01   5.53094726e+02]\n",
      " [  1.13069340e+01   6.68963630e+01   5.53201395e+02]\n",
      " [  8.54743951e+00   6.77880653e+01   5.53295117e+02]\n",
      " [ -1.01192785e+00   6.57540749e+01   5.57218989e+02]\n",
      " [  3.78905059e+00   6.67689640e+01   5.57325659e+02]\n",
      " [ -1.53668371e+00   6.84899204e+01   5.57506539e+02]\n",
      " [  3.26429472e+00   6.95048096e+01   5.57613208e+02]\n",
      " [  5.04800227e-01   7.03965119e+01   5.57706930e+02]\n",
      " [ -1.10960511e+01   6.64559300e+01   5.61430411e+02]\n",
      " [ -6.29507264e+00   6.74708191e+01   5.61537081e+02]\n",
      " [ -9.05456713e+00   6.83625215e+01   5.61630802e+02]\n",
      " [ -4.25358870e+00   6.93774106e+01   5.61737472e+02]\n",
      " [ -1.58544400e+01   6.54368287e+01   5.65460953e+02]\n",
      " [ -1.86139345e+01   6.63285310e+01   5.65554675e+02]\n",
      " [ -1.38129561e+01   6.73434202e+01   5.65661344e+02]\n",
      " [ -2.96900299e+01   5.96521035e+01   5.68990606e+02]\n",
      " [ -2.54138074e+01   6.34028382e+01   5.69384825e+02]\n",
      " [ -2.81733019e+01   6.42945406e+01   5.69478547e+02]\n",
      " [ -2.06128289e+01   6.44177274e+01   5.69491494e+02]\n",
      " [ -2.33723234e+01   6.53094297e+01   5.69585216e+02]\n",
      " [ -3.44484189e+01   5.86330022e+01   5.73021147e+02]\n",
      " [ -2.96474404e+01   5.96478914e+01   5.73127817e+02]\n",
      " [ -3.49731747e+01   6.13688478e+01   5.73308697e+02]\n",
      " [ -3.01721963e+01   6.23837369e+01   5.73415366e+02]\n",
      " [ -3.29316908e+01   6.32754393e+01   5.73509088e+02]\n",
      " [ -4.60492702e+01   5.46924203e+01   5.76744628e+02]\n",
      " [ -4.12482917e+01   5.57073094e+01   5.76851298e+02]\n",
      " [ -4.40077862e+01   5.65990118e+01   5.76945020e+02]\n",
      " [ -3.64473133e+01   5.67221986e+01   5.76957967e+02]\n",
      " [ -3.92068078e+01   5.76139009e+01   5.77051689e+02]\n",
      " [ -5.38411152e+01   4.43884448e+01   5.79799288e+02]\n",
      " [ -5.17996313e+01   4.62950363e+01   5.79999679e+02]\n",
      " [ -5.23243872e+01   4.90308819e+01   5.80287229e+02]\n",
      " [ -4.75234087e+01   5.00457711e+01   5.80393898e+02]\n",
      " [ -5.02829032e+01   5.09374734e+01   5.80487620e+02]\n",
      " [ -4.54819248e+01   5.19523626e+01   5.80594290e+02]\n",
      " [ -6.01162322e+01   3.87269065e+01   5.83341889e+02]\n",
      " [ -5.85995042e+01   4.33693436e+01   5.83829830e+02]\n",
      " [ -5.65580202e+01   4.52759350e+01   5.84030221e+02]\n",
      " [ -6.43498653e+01   3.49719596e+01   5.87084881e+02]\n",
      " [ -6.48746211e+01   3.77078052e+01   5.87372430e+02]\n",
      " [ -6.28331372e+01   3.96143967e+01   5.87572822e+02]\n",
      " [ -5.80321588e+01   4.06292858e+01   5.87679491e+02]\n",
      " [ -7.26664662e+01   2.74038298e+01   5.90427090e+02]\n",
      " [ -6.78654878e+01   2.84187189e+01   5.90533759e+02]\n",
      " [ -7.06249823e+01   2.93104213e+01   5.90627481e+02]\n",
      " [ -6.58240038e+01   3.03253104e+01   5.90734151e+02]\n",
      " [ -6.63487597e+01   3.30611560e+01   5.91021700e+02]\n",
      " [ -7.36158489e+01   2.00213350e+01   5.93788810e+02]\n",
      " [ -7.41406048e+01   2.27571806e+01   5.94076360e+02]\n",
      " [ -7.20991208e+01   2.46637721e+01   5.94276751e+02]\n",
      " [ -7.50899875e+01   1.53746858e+01   5.97438080e+02]\n",
      " [ -7.56147433e+01   1.81105313e+01   5.97725630e+02]\n",
      " [ -7.86056100e+01   8.82144508e+00   6.00886959e+02]\n",
      " [ -7.65641260e+01   1.07280366e+01   6.01087350e+02]\n",
      " [ -7.70888819e+01   1.34638821e+01   6.01374900e+02]\n",
      " [ -8.25884488e+01  -7.84592382e+00   6.03272798e+02]\n",
      " [ -8.31132047e+01  -5.11007825e+00   6.03560347e+02]\n",
      " [ -8.15964766e+01  -4.67641194e-01   6.04048288e+02]\n",
      " [ -7.95549927e+01   1.43895030e+00   6.04248679e+02]\n",
      " [ -8.00797485e+01   4.17479587e+00   6.04536229e+02]\n",
      " [ -7.80382646e+01   6.08138736e+00   6.04736620e+02]\n",
      " [ -8.55793155e+01  -1.71350101e+01   6.06434127e+02]\n",
      " [ -8.61040713e+01  -1.43991645e+01   6.06721676e+02]\n",
      " [ -8.13030929e+01  -1.33842754e+01   6.06828346e+02]\n",
      " [ -8.40625874e+01  -1.24925730e+01   6.06922068e+02]\n",
      " [ -8.45873433e+01  -9.75672747e+00   6.07209617e+02]\n",
      " [ -8.10291312e+01  -3.20769891e+00   6.07897949e+02]\n",
      " [ -8.42939595e+01  -2.26733616e+01   6.09989675e+02]\n",
      " [ -8.22524756e+01  -2.07667702e+01   6.10190066e+02]\n",
      " [ -8.27772315e+01  -1.80309246e+01   6.10477616e+02]\n",
      " [ -8.55367260e+01  -1.71392222e+01   6.10571338e+02]\n",
      " [ -8.57680981e+01  -2.73200109e+01   6.13638945e+02]\n",
      " [ -8.37266142e+01  -2.54134194e+01   6.13839336e+02]\n",
      " [ -8.19165024e+01  -3.36876165e+01   6.17107335e+02]\n",
      " [ -8.24412582e+01  -3.09517709e+01   6.17394884e+02]\n",
      " [ -8.52007527e+01  -3.00600686e+01   6.17488606e+02]\n",
      " [ -8.06311464e+01  -3.92259680e+01   6.20662883e+02]\n",
      " [ -8.33906409e+01  -3.83342657e+01   6.20756605e+02]\n",
      " [ -8.39153968e+01  -3.55984201e+01   6.21044154e+02]\n",
      " [ -8.21052850e+01  -4.38726173e+01   6.24312153e+02]\n",
      " [ -8.00638010e+01  -4.19660258e+01   6.24512544e+02]\n",
      " [ -7.70109228e+01  -5.57743623e+01   6.27198880e+02]\n",
      " [ -8.02951732e+01  -5.21468144e+01   6.27580151e+02]\n",
      " [ -7.82536892e+01  -5.02402229e+01   6.27780543e+02]\n",
      " [ -7.87784451e+01  -4.75043773e+01   6.28068092e+02]\n",
      " [ -7.03998326e+01  -6.30336703e+01   6.30573548e+02]\n",
      " [ -7.31593271e+01  -6.21419679e+01   6.30667269e+02]\n",
      " [ -7.36840830e+01  -5.94061223e+01   6.30954819e+02]\n",
      " [ -7.64435775e+01  -5.85144200e+01   6.31048541e+02]\n",
      " [ -7.18739712e+01  -6.76803195e+01   6.34222818e+02]\n",
      " [ -6.47381251e+01  -7.76754730e+01   6.37309936e+02]\n",
      " [ -6.52628809e+01  -7.49396274e+01   6.37597485e+02]\n",
      " [ -6.80223754e+01  -7.40479251e+01   6.37691207e+02]\n",
      " [ -6.85471313e+01  -7.13120795e+01   6.37978757e+02]\n",
      " [ -7.18313816e+01  -6.76845316e+01   6.38360029e+02]\n",
      " [ -5.86517907e+01  -8.21989354e+01   6.40972153e+02]\n",
      " [ -6.14112852e+01  -8.13072331e+01   6.41065875e+02]\n",
      " [ -6.19360411e+01  -7.85713875e+01   6.41353425e+02]\n",
      " [ -5.15159446e+01  -9.21940890e+01   6.44059272e+02]\n",
      " [ -5.20407005e+01  -8.94582434e+01   6.44346821e+02]\n",
      " [ -5.48001950e+01  -8.85665410e+01   6.44440543e+02]\n",
      " [ -5.53249508e+01  -8.58306955e+01   6.44728093e+02]\n",
      " [ -5.80844453e+01  -8.49389931e+01   6.44821815e+02]\n",
      " [ -4.49048544e+01  -9.94533969e+01   6.47433939e+02]\n",
      " [ -4.54296102e+01  -9.67175514e+01   6.47721489e+02]\n",
      " [ -4.81891047e+01  -9.58258490e+01   6.47815211e+02]\n",
      " [ -4.33881263e+01  -9.48109599e+01   6.47921880e+02]\n",
      " [ -4.87138606e+01  -9.30900034e+01   6.48102761e+02]\n",
      " [ -4.21027704e+01  -1.00349311e+02   6.51477429e+02]\n",
      " [ -3.73017919e+01  -9.93344223e+01   6.51584098e+02]\n",
      " [ -4.00612864e+01  -9.84427199e+01   6.51677820e+02]\n",
      " [ -3.67344465e+01  -1.02074480e+02   6.55433759e+02]\n",
      " [ -3.06481122e+01  -1.06597942e+02   6.59095977e+02]\n",
      " [ -2.86066282e+01  -1.04691351e+02   6.59296368e+02]\n",
      " [ -6.79708374e+00  -1.06300722e+02   7.91532134e+02]\n",
      " [ -1.00813341e+01  -1.02673175e+02   7.91913406e+02]\n",
      " [ -4.72471724e+01  -1.25292451e+02   1.35225692e+03]\n",
      " [ -4.72045829e+01  -1.25296663e+02   1.35639413e+03]\n",
      " [  5.29618665e+00  -8.02318126e+01   1.55146272e+03]\n",
      " [  5.33877616e+00  -8.02360248e+01   1.55559993e+03]\n",
      " [  2.16961822e+01   2.57162891e+01   1.95153779e+03]\n",
      " [  2.73626326e+01   2.39616355e+01   1.98445459e+03]\n",
      " [  2.90923082e+01   2.85830118e+01   2.00562859e+03]\n",
      " [  2.91348977e+01   2.85787996e+01   2.00976580e+03]\n",
      " [  2.71360033e+01   2.66679960e+01   2.01370262e+03]\n",
      " [  2.91774872e+01   2.85745875e+01   2.01390301e+03]\n",
      " [  4.04007733e+01   1.21451679e+01   2.02458917e+03]\n",
      " [  3.90544032e+01   7.48588223e+00   2.04065007e+03]\n",
      " [  6.74976586e+01  -1.96405460e+01   2.05021192e+03]\n",
      " [  6.75402481e+01  -1.96447582e+01   2.05434913e+03]]\n"
     ]
    }
   ],
   "source": [
    "uvw_order = uvw[np.argsort(uvw[:,2])]\n",
    "print(uvw_order)"
   ]
  },
  {
   "cell_type": "code",
   "execution_count": null,
   "metadata": {
    "collapsed": true
   },
   "outputs": [],
   "source": []
  },
  {
   "cell_type": "code",
   "execution_count": null,
   "metadata": {
    "collapsed": true
   },
   "outputs": [],
   "source": []
  }
 ],
 "metadata": {
  "kernelspec": {
   "display_name": "Python 3",
   "language": "python",
   "name": "python3"
  },
  "language_info": {
   "codemirror_mode": {
    "name": "ipython",
    "version": 3
   },
   "file_extension": ".py",
   "mimetype": "text/x-python",
   "name": "python",
   "nbconvert_exporter": "python",
   "pygments_lexer": "ipython3",
   "version": "3.5.0"
  }
 },
 "nbformat": 4,
 "nbformat_minor": 0
}
