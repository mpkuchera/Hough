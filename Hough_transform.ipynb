{
 "cells": [
  {
   "cell_type": "code",
   "execution_count": 1,
   "metadata": {
    "collapsed": true
   },
   "outputs": [],
   "source": [
    "%matplotlib inline"
   ]
  },
  {
   "cell_type": "code",
   "execution_count": 2,
   "metadata": {
    "collapsed": true
   },
   "outputs": [],
   "source": [
    "import matplotlib.pyplot as plt\n",
    "import numpy as np\n",
    "import pandas as pd\n",
    "import pytpc\n",
    "import seaborn as sns\n",
    "import math\n",
    "import matplotlib.pyplot as plt\n",
    "import h5py\n",
    "import heapq"
   ]
  },
  {
   "cell_type": "code",
   "execution_count": 8,
   "metadata": {
    "collapsed": true
   },
   "outputs": [],
   "source": [
    "def hough_circle(xyzs):\n",
    "    nbins = 200\n",
    "    xyz_order = xyzs[np.argsort(xyzs[:,2])]\n",
    "    th = np.linspace(0,math.pi,nbins)\n",
    "    #H = [0,0]\n",
    "    Hrad = [0,0]\n",
    "    xyz_order_f = xyz_order[5:]\n",
    "    xyz_order = xyz_order[:-5]\n",
    "\n",
    "   # return xyz_order, xyz_order_f\n",
    "    for theta in th:\n",
    "        Radius = (xyz_order_f[:,0]**2 - xyz_order[:,0]**2+ xyz_order_f[:,1]**2- xyz_order[:,1]**2)/(2*((xyz_order_f[:,0]- xyz_order[:,0])*np.cos(theta)+(xyz_order_f[:,1]- xyz_order[:,1])*np.sin(theta)))\n",
    "        index = 0\n",
    "        for rr in Radius:  \n",
    "            aRad = np.hstack((theta,Radius[index]))\n",
    "            Hrad = np.vstack((Hrad,aRad))\n",
    "            index +=1\n",
    "\n",
    "    Hrad = Hrad[1:]\n",
    "    \n",
    "    #countsRad, xedgesRad, yedgesRad, ImageRad = plt.hist2d(Hrad[:,0], Hrad[:,1], nbins,range=[[0,math.pi],[-500,500]],cmap=plt.cm.jet) \n",
    "    countsRad, xedgesRad, yedgesRad = np.histogram2d(Hrad[:,0], Hrad[:,1], nbins,range=[[0,math.pi],[-500,500]])\n",
    "\n",
    "    iRad,jRad = np.unravel_index(countsRad.argmax(), countsRad.shape)\n",
    "\n",
    "    tRad = iRad*math.pi/nbins\n",
    "    rRad = jRad*1000/nbins - 500\n",
    "   \n",
    "    print(rRad,tRad)\n",
    "  \n",
    "    ax =  rRad*math.cos(tRad)  \n",
    "    by =  rRad*math.sin(tRad)\n",
    "  \n",
    "    return ax,by"
   ]
  },
  {
   "cell_type": "code",
   "execution_count": 5,
   "metadata": {
    "collapsed": false
   },
   "outputs": [],
   "source": [
    "h5_filename = '../run_0166_peaks_bkd_subtract.h5'\n",
    "group_name = '/reduced_get_events'\n",
    "file = h5py.File(h5_filename,'r')\n",
    "group = file[group_name]"
   ]
  },
  {
   "cell_type": "code",
   "execution_count": 11,
   "metadata": {
    "collapsed": true
   },
   "outputs": [],
   "source": [
    "i = 0"
   ]
  },
  {
   "cell_type": "code",
   "execution_count": 101,
   "metadata": {
    "collapsed": false
   },
   "outputs": [
    {
     "name": "stdout",
     "output_type": "stream",
     "text": [
      "22\n"
     ]
    }
   ],
   "source": [
    "#ev = '128'\n",
    "print(i)\n",
    "ev = str(i)\n",
    "event = group[ev]\n",
    "xyz = event[:,0:4]\n",
    "#plt.plot(xyz[:,0],xyz[:,1],'.')\n",
    "#fig = plt.figure()\n",
    "#ax = fig.add_subplot(111,projection='3d')\n",
    "#cmhot = plt.get_cmap(\"jet\")\n",
    "#a = ax.scatter(xyz[:,0],xyz[:,1],xyz[:,2],c=xyz[:,3],cmap=cmhot)\n",
    "#fig.colorbar(a)"
   ]
  },
  {
   "cell_type": "code",
   "execution_count": 102,
   "metadata": {
    "collapsed": false
   },
   "outputs": [
    {
     "name": "stdout",
     "output_type": "stream",
     "text": [
      "-135.0 2.43473430653\n"
     ]
    }
   ],
   "source": [
    "a, b = hough_circle(xyz)"
   ]
  },
  {
   "cell_type": "code",
   "execution_count": 103,
   "metadata": {
    "collapsed": false
   },
   "outputs": [
    {
     "data": {
      "image/png": "[encoded data removed]",
      "text/plain": [
       "<matplotlib.figure.Figure at 0xdc777f0>"
      ]
     },
     "metadata": {},
     "output_type": "display_data"
    }
   ],
   "source": [
    "plt.plot(xyz[:,0],xyz[:,1],'.',a,b,'r.')\n",
    "plt.axes().set_aspect(1)\n"
   ]
  },
  {
   "cell_type": "code",
   "execution_count": 104,
   "metadata": {
    "collapsed": true
   },
   "outputs": [],
   "source": [
    "i = i+1"
   ]
  },
  {
   "cell_type": "code",
   "execution_count": null,
   "metadata": {
    "collapsed": true
   },
   "outputs": [],
   "source": []
  }
 ],
 "metadata": {
  "kernelspec": {
   "display_name": "Python 3",
   "language": "python",
   "name": "python3"
  },
  "language_info": {
   "codemirror_mode": {
    "name": "ipython",
    "version": 3
   },
   "file_extension": ".py",
   "mimetype": "text/x-python",
   "name": "python",
   "nbconvert_exporter": "python",
   "pygments_lexer": "ipython3",
   "version": "3.5.0"
  }
 },
 "nbformat": 4,
 "nbformat_minor": 0
}
